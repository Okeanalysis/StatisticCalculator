{
 "cells": [
  {
   "cell_type": "code",
   "execution_count": 48,
   "id": "cba562d4-2e65-4216-98ee-e6aae1d5def3",
   "metadata": {},
   "outputs": [
    {
     "name": "stdout",
     "output_type": "stream",
     "text": [
      "Statistic calculator\n",
      " 1.Mean\n",
      " 2. Mode\n",
      " 3. Median\n",
      " 4. Variance\n",
      " 5. Standard deviation\n",
      " 6. Correlation matrix\n",
      " 7. Covariance\n",
      " 8. Percentile\n",
      " 9. Quartile\n",
      " 10. Sum\n",
      " 11. Minimum\n",
      " 12. Maximum\n",
      " 13. Product\n",
      " 14. End\n"
     ]
    },
    {
     "name": "stdin",
     "output_type": "stream",
     "text": [
      "enter the number of the operation you want to carry out: 1\n",
      "enter the number and seperate with space: 2 3 3\n"
     ]
    },
    {
     "name": "stdout",
     "output_type": "stream",
     "text": [
      "the mean value is 2.6666666666666665\n",
      "Statistic calculator\n",
      " 1.Mean\n",
      " 2. Mode\n",
      " 3. Median\n",
      " 4. Variance\n",
      " 5. Standard deviation\n",
      " 6. Correlation matrix\n",
      " 7. Covariance\n",
      " 8. Percentile\n",
      " 9. Quartile\n",
      " 10. Sum\n",
      " 11. Minimum\n",
      " 12. Maximum\n",
      " 13. Product\n",
      " 14. End\n"
     ]
    },
    {
     "name": "stdin",
     "output_type": "stream",
     "text": [
      "enter the number of the operation you want to carry out: 2\n",
      "enter the number and seperate with space: 2 3 3\n"
     ]
    },
    {
     "name": "stdout",
     "output_type": "stream",
     "text": [
      "the mode value is ModeResult(mode=3, count=2)\n",
      "Statistic calculator\n",
      " 1.Mean\n",
      " 2. Mode\n",
      " 3. Median\n",
      " 4. Variance\n",
      " 5. Standard deviation\n",
      " 6. Correlation matrix\n",
      " 7. Covariance\n",
      " 8. Percentile\n",
      " 9. Quartile\n",
      " 10. Sum\n",
      " 11. Minimum\n",
      " 12. Maximum\n",
      " 13. Product\n",
      " 14. End\n"
     ]
    },
    {
     "name": "stdin",
     "output_type": "stream",
     "text": [
      "enter the number of the operation you want to carry out: 3\n",
      "enter the number and seperate with space: 2 3 3\n"
     ]
    },
    {
     "name": "stdout",
     "output_type": "stream",
     "text": [
      "the median value 3.0\n",
      "Statistic calculator\n",
      " 1.Mean\n",
      " 2. Mode\n",
      " 3. Median\n",
      " 4. Variance\n",
      " 5. Standard deviation\n",
      " 6. Correlation matrix\n",
      " 7. Covariance\n",
      " 8. Percentile\n",
      " 9. Quartile\n",
      " 10. Sum\n",
      " 11. Minimum\n",
      " 12. Maximum\n",
      " 13. Product\n",
      " 14. End\n"
     ]
    },
    {
     "name": "stdin",
     "output_type": "stream",
     "text": [
      "enter the number of the operation you want to carry out: 4\n",
      "enter the number and seperate with space: 2 3 3\n"
     ]
    },
    {
     "name": "stdout",
     "output_type": "stream",
     "text": [
      "the variance value 0.22222222222222224\n",
      "Statistic calculator\n",
      " 1.Mean\n",
      " 2. Mode\n",
      " 3. Median\n",
      " 4. Variance\n",
      " 5. Standard deviation\n",
      " 6. Correlation matrix\n",
      " 7. Covariance\n",
      " 8. Percentile\n",
      " 9. Quartile\n",
      " 10. Sum\n",
      " 11. Minimum\n",
      " 12. Maximum\n",
      " 13. Product\n",
      " 14. End\n"
     ]
    },
    {
     "name": "stdin",
     "output_type": "stream",
     "text": [
      "enter the number of the operation you want to carry out: 5\n",
      "enter the number and seperate with space: 2 3 3\n"
     ]
    },
    {
     "name": "stdout",
     "output_type": "stream",
     "text": [
      "the standard deviation value 0.4714045207910317\n",
      "Statistic calculator\n",
      " 1.Mean\n",
      " 2. Mode\n",
      " 3. Median\n",
      " 4. Variance\n",
      " 5. Standard deviation\n",
      " 6. Correlation matrix\n",
      " 7. Covariance\n",
      " 8. Percentile\n",
      " 9. Quartile\n",
      " 10. Sum\n",
      " 11. Minimum\n",
      " 12. Maximum\n",
      " 13. Product\n",
      " 14. End\n"
     ]
    },
    {
     "name": "stdin",
     "output_type": "stream",
     "text": [
      "enter the number of the operation you want to carry out: 6\n",
      "enter the number and seperate with space: 2 3 3\n"
     ]
    },
    {
     "name": "stdout",
     "output_type": "stream",
     "text": [
      "the correlarion matrix value 1.0\n",
      "Statistic calculator\n",
      " 1.Mean\n",
      " 2. Mode\n",
      " 3. Median\n",
      " 4. Variance\n",
      " 5. Standard deviation\n",
      " 6. Correlation matrix\n",
      " 7. Covariance\n",
      " 8. Percentile\n",
      " 9. Quartile\n",
      " 10. Sum\n",
      " 11. Minimum\n",
      " 12. Maximum\n",
      " 13. Product\n",
      " 14. End\n"
     ]
    },
    {
     "name": "stdin",
     "output_type": "stream",
     "text": [
      "enter the number of the operation you want to carry out: 7\n",
      "enter the number and seperate with space: 2 3 3\n"
     ]
    },
    {
     "name": "stdout",
     "output_type": "stream",
     "text": [
      "the covariance value 0.33333333333333337\n",
      "Statistic calculator\n",
      " 1.Mean\n",
      " 2. Mode\n",
      " 3. Median\n",
      " 4. Variance\n",
      " 5. Standard deviation\n",
      " 6. Correlation matrix\n",
      " 7. Covariance\n",
      " 8. Percentile\n",
      " 9. Quartile\n",
      " 10. Sum\n",
      " 11. Minimum\n",
      " 12. Maximum\n",
      " 13. Product\n",
      " 14. End\n"
     ]
    },
    {
     "name": "stdin",
     "output_type": "stream",
     "text": [
      "enter the number of the operation you want to carry out: 8\n",
      "enter the number and seperate with space: 2 3 3\n"
     ]
    },
    {
     "name": "stdout",
     "output_type": "stream",
     "text": [
      "the percentile value 2.5\n",
      "Statistic calculator\n",
      " 1.Mean\n",
      " 2. Mode\n",
      " 3. Median\n",
      " 4. Variance\n",
      " 5. Standard deviation\n",
      " 6. Correlation matrix\n",
      " 7. Covariance\n",
      " 8. Percentile\n",
      " 9. Quartile\n",
      " 10. Sum\n",
      " 11. Minimum\n",
      " 12. Maximum\n",
      " 13. Product\n",
      " 14. End\n"
     ]
    },
    {
     "name": "stdin",
     "output_type": "stream",
     "text": [
      "enter the number of the operation you want to carry out: 9\n",
      "enter the number and seperate with space: 2 3 3\n"
     ]
    },
    {
     "name": "stdout",
     "output_type": "stream",
     "text": [
      "the first quartile value 2.5\n",
      "the second quartile value 3.0\n",
      "the third quartile value 3.0\n",
      "Statistic calculator\n",
      " 1.Mean\n",
      " 2. Mode\n",
      " 3. Median\n",
      " 4. Variance\n",
      " 5. Standard deviation\n",
      " 6. Correlation matrix\n",
      " 7. Covariance\n",
      " 8. Percentile\n",
      " 9. Quartile\n",
      " 10. Sum\n",
      " 11. Minimum\n",
      " 12. Maximum\n",
      " 13. Product\n",
      " 14. End\n"
     ]
    },
    {
     "name": "stdin",
     "output_type": "stream",
     "text": [
      "enter the number of the operation you want to carry out: 10\n",
      "enter the number and seperate with space: 2 3 3\n"
     ]
    },
    {
     "name": "stdout",
     "output_type": "stream",
     "text": [
      "the sum is 8\n",
      "Statistic calculator\n",
      " 1.Mean\n",
      " 2. Mode\n",
      " 3. Median\n",
      " 4. Variance\n",
      " 5. Standard deviation\n",
      " 6. Correlation matrix\n",
      " 7. Covariance\n",
      " 8. Percentile\n",
      " 9. Quartile\n",
      " 10. Sum\n",
      " 11. Minimum\n",
      " 12. Maximum\n",
      " 13. Product\n",
      " 14. End\n"
     ]
    },
    {
     "name": "stdin",
     "output_type": "stream",
     "text": [
      "enter the number of the operation you want to carry out: 11\n",
      "enter the number and seperate with space: 2 3 3\n"
     ]
    },
    {
     "name": "stdout",
     "output_type": "stream",
     "text": [
      "the Minimum is 2\n",
      "Statistic calculator\n",
      " 1.Mean\n",
      " 2. Mode\n",
      " 3. Median\n",
      " 4. Variance\n",
      " 5. Standard deviation\n",
      " 6. Correlation matrix\n",
      " 7. Covariance\n",
      " 8. Percentile\n",
      " 9. Quartile\n",
      " 10. Sum\n",
      " 11. Minimum\n",
      " 12. Maximum\n",
      " 13. Product\n",
      " 14. End\n"
     ]
    },
    {
     "name": "stdin",
     "output_type": "stream",
     "text": [
      "enter the number of the operation you want to carry out: 12\n",
      "enter the number and seperate with space: 2 3 3\n"
     ]
    },
    {
     "name": "stdout",
     "output_type": "stream",
     "text": [
      "the Maximum is 3\n",
      "Statistic calculator\n",
      " 1.Mean\n",
      " 2. Mode\n",
      " 3. Median\n",
      " 4. Variance\n",
      " 5. Standard deviation\n",
      " 6. Correlation matrix\n",
      " 7. Covariance\n",
      " 8. Percentile\n",
      " 9. Quartile\n",
      " 10. Sum\n",
      " 11. Minimum\n",
      " 12. Maximum\n",
      " 13. Product\n",
      " 14. End\n"
     ]
    },
    {
     "name": "stdin",
     "output_type": "stream",
     "text": [
      "enter the number of the operation you want to carry out: 13\n",
      "enter the number and seperate with space: 2\n"
     ]
    },
    {
     "name": "stdout",
     "output_type": "stream",
     "text": [
      "the product is 2\n",
      "Statistic calculator\n",
      " 1.Mean\n",
      " 2. Mode\n",
      " 3. Median\n",
      " 4. Variance\n",
      " 5. Standard deviation\n",
      " 6. Correlation matrix\n",
      " 7. Covariance\n",
      " 8. Percentile\n",
      " 9. Quartile\n",
      " 10. Sum\n",
      " 11. Minimum\n",
      " 12. Maximum\n",
      " 13. Product\n",
      " 14. End\n"
     ]
    },
    {
     "name": "stdin",
     "output_type": "stream",
     "text": [
      "enter the number of the operation you want to carry out: 13\n",
      "enter the number and seperate with space: 2 3 3\n"
     ]
    },
    {
     "name": "stdout",
     "output_type": "stream",
     "text": [
      "the product is 18\n",
      "Statistic calculator\n",
      " 1.Mean\n",
      " 2. Mode\n",
      " 3. Median\n",
      " 4. Variance\n",
      " 5. Standard deviation\n",
      " 6. Correlation matrix\n",
      " 7. Covariance\n",
      " 8. Percentile\n",
      " 9. Quartile\n",
      " 10. Sum\n",
      " 11. Minimum\n",
      " 12. Maximum\n",
      " 13. Product\n",
      " 14. End\n"
     ]
    },
    {
     "name": "stdin",
     "output_type": "stream",
     "text": [
      "enter the number of the operation you want to carry out: 14\n"
     ]
    },
    {
     "name": "stdout",
     "output_type": "stream",
     "text": [
      "Goodbye\n"
     ]
    }
   ],
   "source": [
    "import numpy as np\n",
    "from scipy import stats\n",
    "while True:\n",
    "    print(\"Statistic calculator\\n 1.Mean\\n 2. Mode\\n 3. Median\\n 4. Variance\\n 5. Standard deviation\\n 6. Correlation matrix\\n 7. Covariance\\n 8. Percentile\\n 9. Quartile\\n 10. Sum\\n 11. Minimum\\n 12. Maximum\\n 13. Product\\n 14. End\")\n",
    "    cal= int(input(\"enter the number of the operation you want to carry out:\"))\n",
    "    \n",
    "    if cal == 1:\n",
    "        user_input= input(\"enter the number and seperate with space:\")\n",
    "        number= np.array(list(map(int, user_input.split())))\n",
    "        mean_value= np.mean(number)\n",
    "        print(\"the mean value is\", mean_value)\n",
    "    elif cal == 2:\n",
    "        user_input= input(\"enter the number and seperate with space:\")\n",
    "        number= np.array(list(map(int, user_input.split())))\n",
    "        mode_value=  stats.mode(number)\n",
    "        print('the mode value is', mode_value)\n",
    "    elif cal ==3:\n",
    "        user_input= input(\"enter the number and seperate with space:\")\n",
    "        number= np.array(list(map(int, user_input.split())))\n",
    "        median_value= np.median(number)\n",
    "        print('the median value', median_value)\n",
    "    elif cal ==4:\n",
    "        user_input= input(\"enter the number and seperate with space:\")\n",
    "        number= np.array(list(map(int, user_input.split())))\n",
    "        variance_value= np.var(number)\n",
    "        print('the variance value', variance_value)\n",
    "    elif cal ==5:\n",
    "        user_input= input(\"enter the number and seperate with space:\")\n",
    "        number= np.array(list(map(int, user_input.split())))\n",
    "        standard_value= np.std(number)\n",
    "        print('the standard deviation value', standard_value)\n",
    "    elif cal ==6:\n",
    "        user_input= input(\"enter the number and seperate with space:\")\n",
    "        number= np.array(list(map(int, user_input.split())))\n",
    "        correlation_value= np.corrcoef(number)\n",
    "        print('the correlarion matrix value', correlation_value)\n",
    "    elif cal ==7:\n",
    "        user_input= input(\"enter the number and seperate with space:\")\n",
    "        number= np.array(list(map(int, user_input.split())))\n",
    "        covariance_value= np.cov(number)\n",
    "        print('the covariance value', covariance_value)\n",
    "    elif cal ==8:\n",
    "        user_input= input(\"enter the number and seperate with space:\")\n",
    "        number= np.array(list(map(int, user_input.split())))\n",
    "        percentile_value= np.percentile(number, 25)\n",
    "        print('the percentile value', percentile_value)\n",
    "    elif cal ==9:\n",
    "        user_input= input(\"enter the number and seperate with space:\")\n",
    "        number= np.array(list(map(int, user_input.split())))\n",
    "        fquartile_value= np.percentile(number, 25)\n",
    "        squartile_value= np.percentile(number, 50)\n",
    "        tquartile_value= np.percentile(number, 75)\n",
    "        print('the first quartile value', fquartile_value)\n",
    "        print('the second quartile value', squartile_value)\n",
    "        print('the third quartile value', tquartile_value)\n",
    "    elif cal == 10:\n",
    "        user_input= input(\"enter the number and seperate with space:\")\n",
    "        number= np.array(list(map(int, user_input.split())))\n",
    "        sum_value= np.sum(number)\n",
    "        print(\"the sum is\", sum_value)\n",
    "    elif cal == 11:\n",
    "        user_input= input(\"enter the number and seperate with space:\")\n",
    "        number= np.array(list(map(int, user_input.split())))\n",
    "        min_value= np.min(number)\n",
    "        print(\"the Minimum is\", min_value)\n",
    "    elif cal == 12:\n",
    "        user_input= input(\"enter the number and seperate with space:\")\n",
    "        number= np.array(list(map(int, user_input.split())))\n",
    "        max_value= np.max(number)\n",
    "        print(\"the Maximum is\", max_value)\n",
    "    elif cal == 13:\n",
    "        user_input= input(\"enter the number and seperate with space:\")\n",
    "        number= np.array(list(map(int, user_input.split())))\n",
    "        prod_value= np.prod(number)\n",
    "        print(\"the product is\", prod_value)\n",
    "    elif cal == 14:\n",
    "        print(\"Goodbye\")\n",
    "        break\n",
    "    else:\n",
    "        print(\"pick the correct number\")"
   ]
  },
  {
   "cell_type": "code",
   "execution_count": null,
   "id": "1f31d717-80de-4ada-bfeb-20edf0565b3f",
   "metadata": {},
   "outputs": [],
   "source": []
  }
 ],
 "metadata": {
  "kernelspec": {
   "display_name": "Python 3 (ipykernel)",
   "language": "python",
   "name": "python3"
  },
  "language_info": {
   "codemirror_mode": {
    "name": "ipython",
    "version": 3
   },
   "file_extension": ".py",
   "mimetype": "text/x-python",
   "name": "python",
   "nbconvert_exporter": "python",
   "pygments_lexer": "ipython3",
   "version": "3.12.4"
  }
 },
 "nbformat": 4,
 "nbformat_minor": 5
}
